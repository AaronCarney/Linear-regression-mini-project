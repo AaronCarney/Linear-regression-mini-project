{
 "cells": [
  {
   "cell_type": "code",
   "execution_count": 1,
   "id": "c1521534",
   "metadata": {},
   "outputs": [],
   "source": [
    "import numpy as np\n",
    "import pandas as pd\n",
    "import matplotlib.pyplot as plt\n"
   ]
  },
  {
   "cell_type": "code",
   "execution_count": 2,
   "id": "b433d31b",
   "metadata": {},
   "outputs": [
    {
     "data": {
      "text/html": [
       "<div>\n",
       "<style scoped>\n",
       "    .dataframe tbody tr th:only-of-type {\n",
       "        vertical-align: middle;\n",
       "    }\n",
       "\n",
       "    .dataframe tbody tr th {\n",
       "        vertical-align: top;\n",
       "    }\n",
       "\n",
       "    .dataframe thead th {\n",
       "        text-align: right;\n",
       "    }\n",
       "</style>\n",
       "<table border=\"1\" class=\"dataframe\">\n",
       "  <thead>\n",
       "    <tr style=\"text-align: right;\">\n",
       "      <th></th>\n",
       "      <th>Date</th>\n",
       "      <th>High</th>\n",
       "      <th>Low</th>\n",
       "      <th>Close</th>\n",
       "    </tr>\n",
       "  </thead>\n",
       "  <tbody>\n",
       "    <tr>\n",
       "      <th>0</th>\n",
       "      <td>5/1/2018</td>\n",
       "      <td>191.649994</td>\n",
       "      <td>181.199997</td>\n",
       "      <td>186.550003</td>\n",
       "    </tr>\n",
       "    <tr>\n",
       "      <th>1</th>\n",
       "      <td>6/1/2018</td>\n",
       "      <td>201.600006</td>\n",
       "      <td>186.520004</td>\n",
       "      <td>195.100006</td>\n",
       "    </tr>\n",
       "    <tr>\n",
       "      <th>2</th>\n",
       "      <td>7/1/2018</td>\n",
       "      <td>204.250000</td>\n",
       "      <td>192.119995</td>\n",
       "      <td>197.520004</td>\n",
       "    </tr>\n",
       "    <tr>\n",
       "      <th>3</th>\n",
       "      <td>8/1/2018</td>\n",
       "      <td>203.550003</td>\n",
       "      <td>191.089996</td>\n",
       "      <td>200.770004</td>\n",
       "    </tr>\n",
       "    <tr>\n",
       "      <th>4</th>\n",
       "      <td>9/1/2018</td>\n",
       "      <td>215.429993</td>\n",
       "      <td>200.500000</td>\n",
       "      <td>207.149994</td>\n",
       "    </tr>\n",
       "  </tbody>\n",
       "</table>\n",
       "</div>"
      ],
      "text/plain": [
       "       Date        High         Low       Close\n",
       "0  5/1/2018  191.649994  181.199997  186.550003\n",
       "1  6/1/2018  201.600006  186.520004  195.100006\n",
       "2  7/1/2018  204.250000  192.119995  197.520004\n",
       "3  8/1/2018  203.550003  191.089996  200.770004\n",
       "4  9/1/2018  215.429993  200.500000  207.149994"
      ]
     },
     "execution_count": 2,
     "metadata": {},
     "output_type": "execute_result"
    }
   ],
   "source": [
    "# Load Data\n",
    "\n",
    "hd = pd.read_csv ('HD.csv')\n",
    "amd = pd.read_csv('AMD.csv')\n",
    "\n",
    "# Verify\n",
    "\n",
    "hd.head()"
   ]
  },
  {
   "cell_type": "code",
   "execution_count": 3,
   "id": "3d3f090a",
   "metadata": {},
   "outputs": [
    {
     "data": {
      "text/html": [
       "<div>\n",
       "<style scoped>\n",
       "    .dataframe tbody tr th:only-of-type {\n",
       "        vertical-align: middle;\n",
       "    }\n",
       "\n",
       "    .dataframe tbody tr th {\n",
       "        vertical-align: top;\n",
       "    }\n",
       "\n",
       "    .dataframe thead th {\n",
       "        text-align: right;\n",
       "    }\n",
       "</style>\n",
       "<table border=\"1\" class=\"dataframe\">\n",
       "  <thead>\n",
       "    <tr style=\"text-align: right;\">\n",
       "      <th></th>\n",
       "      <th>Date</th>\n",
       "      <th>High</th>\n",
       "      <th>Low</th>\n",
       "      <th>Close</th>\n",
       "      <th>Average</th>\n",
       "    </tr>\n",
       "  </thead>\n",
       "  <tbody>\n",
       "    <tr>\n",
       "      <th>0</th>\n",
       "      <td>5/1/2018</td>\n",
       "      <td>191.649994</td>\n",
       "      <td>181.199997</td>\n",
       "      <td>186.550003</td>\n",
       "      <td>186.466665</td>\n",
       "    </tr>\n",
       "    <tr>\n",
       "      <th>1</th>\n",
       "      <td>6/1/2018</td>\n",
       "      <td>201.600006</td>\n",
       "      <td>186.520004</td>\n",
       "      <td>195.100006</td>\n",
       "      <td>194.406672</td>\n",
       "    </tr>\n",
       "    <tr>\n",
       "      <th>2</th>\n",
       "      <td>7/1/2018</td>\n",
       "      <td>204.250000</td>\n",
       "      <td>192.119995</td>\n",
       "      <td>197.520004</td>\n",
       "      <td>197.963333</td>\n",
       "    </tr>\n",
       "    <tr>\n",
       "      <th>3</th>\n",
       "      <td>8/1/2018</td>\n",
       "      <td>203.550003</td>\n",
       "      <td>191.089996</td>\n",
       "      <td>200.770004</td>\n",
       "      <td>198.470001</td>\n",
       "    </tr>\n",
       "    <tr>\n",
       "      <th>4</th>\n",
       "      <td>9/1/2018</td>\n",
       "      <td>215.429993</td>\n",
       "      <td>200.500000</td>\n",
       "      <td>207.149994</td>\n",
       "      <td>207.693329</td>\n",
       "    </tr>\n",
       "  </tbody>\n",
       "</table>\n",
       "</div>"
      ],
      "text/plain": [
       "       Date        High         Low       Close     Average\n",
       "0  5/1/2018  191.649994  181.199997  186.550003  186.466665\n",
       "1  6/1/2018  201.600006  186.520004  195.100006  194.406672\n",
       "2  7/1/2018  204.250000  192.119995  197.520004  197.963333\n",
       "3  8/1/2018  203.550003  191.089996  200.770004  198.470001\n",
       "4  9/1/2018  215.429993  200.500000  207.149994  207.693329"
      ]
     },
     "execution_count": 3,
     "metadata": {},
     "output_type": "execute_result"
    }
   ],
   "source": [
    "# The average price is considered the average of the High, Low and Close\n",
    "# Nothing fancy required\n",
    "\n",
    "hd['Average'] = (hd['High'] + hd['Low'] + hd['Close']) / 3\n",
    "\n",
    "amd['Average'] = (amd['High'] + amd['Low'] + amd['Close']) / 3\n",
    "\n",
    "# Verification\n",
    "\n",
    "hd.head()"
   ]
  },
  {
   "cell_type": "code",
   "execution_count": 4,
   "id": "a5c46b6c",
   "metadata": {},
   "outputs": [
    {
     "data": {
      "image/png": "[encoded data removed]",
      "text/plain": [
       "<Figure size 640x480 with 1 Axes>"
      ]
     },
     "metadata": {},
     "output_type": "display_data"
    }
   ],
   "source": [
    "# Plot the data for early exploration\n",
    "\n",
    "x = hd['Date']\n",
    "y = hd['Average']\n",
    "plt.axis('off')\n",
    "plt.scatter(x, y, marker='.');"
   ]
  },
  {
   "cell_type": "code",
   "execution_count": 5,
   "id": "6e95f6f7",
   "metadata": {},
   "outputs": [
    {
     "data": {
      "image/png": "[encoded data removed]",
      "text/plain": [
       "<Figure size 640x480 with 1 Axes>"
      ]
     },
     "metadata": {},
     "output_type": "display_data"
    }
   ],
   "source": [
    "x = amd['Date']\n",
    "y = amd['Average']\n",
    "plt.axis('off')\n",
    "plt.scatter(x, y, marker='.');"
   ]
  },
  {
   "cell_type": "code",
   "execution_count": 6,
   "id": "fbabbb8e",
   "metadata": {},
   "outputs": [
    {
     "data": {
      "text/html": [
       "<div>\n",
       "<style scoped>\n",
       "    .dataframe tbody tr th:only-of-type {\n",
       "        vertical-align: middle;\n",
       "    }\n",
       "\n",
       "    .dataframe tbody tr th {\n",
       "        vertical-align: top;\n",
       "    }\n",
       "\n",
       "    .dataframe thead th {\n",
       "        text-align: right;\n",
       "    }\n",
       "</style>\n",
       "<table border=\"1\" class=\"dataframe\">\n",
       "  <thead>\n",
       "    <tr style=\"text-align: right;\">\n",
       "      <th></th>\n",
       "      <th>Date</th>\n",
       "      <th>Average</th>\n",
       "    </tr>\n",
       "  </thead>\n",
       "  <tbody>\n",
       "    <tr>\n",
       "      <th>0</th>\n",
       "      <td>5/1/2018</td>\n",
       "      <td>186.466665</td>\n",
       "    </tr>\n",
       "    <tr>\n",
       "      <th>1</th>\n",
       "      <td>6/1/2018</td>\n",
       "      <td>194.406672</td>\n",
       "    </tr>\n",
       "    <tr>\n",
       "      <th>2</th>\n",
       "      <td>7/1/2018</td>\n",
       "      <td>197.963333</td>\n",
       "    </tr>\n",
       "    <tr>\n",
       "      <th>3</th>\n",
       "      <td>8/1/2018</td>\n",
       "      <td>198.470001</td>\n",
       "    </tr>\n",
       "    <tr>\n",
       "      <th>4</th>\n",
       "      <td>9/1/2018</td>\n",
       "      <td>207.693329</td>\n",
       "    </tr>\n",
       "  </tbody>\n",
       "</table>\n",
       "</div>"
      ],
      "text/plain": [
       "       Date     Average\n",
       "0  5/1/2018  186.466665\n",
       "1  6/1/2018  194.406672\n",
       "2  7/1/2018  197.963333\n",
       "3  8/1/2018  198.470001\n",
       "4  9/1/2018  207.693329"
      ]
     },
     "execution_count": 6,
     "metadata": {},
     "output_type": "execute_result"
    }
   ],
   "source": [
    "# Data is already clean, dropp unnecessary columns\n",
    "\n",
    "hd = hd.drop(columns=['High','Low','Close'])\n",
    "hd.head()"
   ]
  },
  {
   "cell_type": "code",
   "execution_count": 7,
   "id": "d23f4774",
   "metadata": {},
   "outputs": [
    {
     "data": {
      "text/html": [
       "<div>\n",
       "<style scoped>\n",
       "    .dataframe tbody tr th:only-of-type {\n",
       "        vertical-align: middle;\n",
       "    }\n",
       "\n",
       "    .dataframe tbody tr th {\n",
       "        vertical-align: top;\n",
       "    }\n",
       "\n",
       "    .dataframe thead th {\n",
       "        text-align: right;\n",
       "    }\n",
       "</style>\n",
       "<table border=\"1\" class=\"dataframe\">\n",
       "  <thead>\n",
       "    <tr style=\"text-align: right;\">\n",
       "      <th></th>\n",
       "      <th>Date</th>\n",
       "      <th>Average</th>\n",
       "    </tr>\n",
       "  </thead>\n",
       "  <tbody>\n",
       "    <tr>\n",
       "      <th>0</th>\n",
       "      <td>5/1/2018</td>\n",
       "      <td>12.816667</td>\n",
       "    </tr>\n",
       "    <tr>\n",
       "      <th>1</th>\n",
       "      <td>6/1/2018</td>\n",
       "      <td>15.416667</td>\n",
       "    </tr>\n",
       "    <tr>\n",
       "      <th>2</th>\n",
       "      <td>7/1/2018</td>\n",
       "      <td>17.750000</td>\n",
       "    </tr>\n",
       "    <tr>\n",
       "      <th>3</th>\n",
       "      <td>8/1/2018</td>\n",
       "      <td>23.490000</td>\n",
       "    </tr>\n",
       "    <tr>\n",
       "      <th>4</th>\n",
       "      <td>9/1/2018</td>\n",
       "      <td>30.199999</td>\n",
       "    </tr>\n",
       "  </tbody>\n",
       "</table>\n",
       "</div>"
      ],
      "text/plain": [
       "       Date    Average\n",
       "0  5/1/2018  12.816667\n",
       "1  6/1/2018  15.416667\n",
       "2  7/1/2018  17.750000\n",
       "3  8/1/2018  23.490000\n",
       "4  9/1/2018  30.199999"
      ]
     },
     "execution_count": 7,
     "metadata": {},
     "output_type": "execute_result"
    }
   ],
   "source": [
    "amd = amd.drop(columns=['High','Low','Close'])\n",
    "amd.head()"
   ]
  },
  {
   "cell_type": "code",
   "execution_count": 8,
   "id": "6ad09f3e",
   "metadata": {},
   "outputs": [
    {
     "data": {
      "text/plain": [
       "Date        object\n",
       "Average    float64\n",
       "dtype: object"
      ]
     },
     "execution_count": 8,
     "metadata": {},
     "output_type": "execute_result"
    }
   ],
   "source": [
    "amd.dtypes"
   ]
  },
  {
   "cell_type": "code",
   "execution_count": 10,
   "id": "eca65052",
   "metadata": {},
   "outputs": [
    {
     "data": {
      "text/plain": [
       "Date       datetime64[ns]\n",
       "Average           float64\n",
       "dtype: object"
      ]
     },
     "execution_count": 10,
     "metadata": {},
     "output_type": "execute_result"
    }
   ],
   "source": [
    "# Date isn't in a workable datatype so\n",
    "\n",
    "hd['Date'] = pd.to_datetime(hd.Date)\n",
    "hd.dtypes"
   ]
  },
  {
   "cell_type": "code",
   "execution_count": 11,
   "id": "27eabc0b",
   "metadata": {},
   "outputs": [
    {
     "data": {
      "text/plain": [
       "Date       datetime64[ns]\n",
       "Average           float64\n",
       "dtype: object"
      ]
     },
     "execution_count": 11,
     "metadata": {},
     "output_type": "execute_result"
    }
   ],
   "source": [
    "amd['Date'] = pd.to_datetime(amd.Date)\n",
    "amd.dtypes"
   ]
  },
  {
   "cell_type": "code",
   "execution_count": 3,
   "id": "b25021f5",
   "metadata": {},
   "outputs": [
    {
     "ename": "ModuleNotFoundError",
     "evalue": "No module named 'pandas_datareader'",
     "output_type": "error",
     "traceback": [
      "\u001b[1;31m---------------------------------------------------------------------------\u001b[0m",
      "\u001b[1;31mModuleNotFoundError\u001b[0m                       Traceback (most recent call last)",
      "\u001b[1;32m~\\AppData\\Local\\Temp\\ipykernel_20648\\2676568327.py\u001b[0m in \u001b[0;36m<module>\u001b[1;34m\u001b[0m\n\u001b[0;32m      1\u001b[0m \u001b[1;32mimport\u001b[0m \u001b[0mnumpy\u001b[0m \u001b[1;32mas\u001b[0m \u001b[0mnp\u001b[0m\u001b[1;33m\u001b[0m\u001b[1;33m\u001b[0m\u001b[0m\n\u001b[1;32m----> 2\u001b[1;33m \u001b[1;32mimport\u001b[0m \u001b[0mpandas_datareader\u001b[0m\u001b[1;33m.\u001b[0m\u001b[0mdata\u001b[0m \u001b[1;32mas\u001b[0m \u001b[0mweb\u001b[0m\u001b[1;33m\u001b[0m\u001b[1;33m\u001b[0m\u001b[0m\n\u001b[0m\u001b[0;32m      3\u001b[0m \u001b[1;32mimport\u001b[0m \u001b[0mpandas\u001b[0m \u001b[1;32mas\u001b[0m \u001b[0mpd\u001b[0m\u001b[1;33m\u001b[0m\u001b[1;33m\u001b[0m\u001b[0m\n\u001b[0;32m      4\u001b[0m \u001b[1;32mimport\u001b[0m \u001b[0mdatetime\u001b[0m\u001b[1;33m\u001b[0m\u001b[1;33m\u001b[0m\u001b[0m\n\u001b[0;32m      5\u001b[0m \u001b[1;32mimport\u001b[0m \u001b[0mmatplotlib\u001b[0m\u001b[1;33m.\u001b[0m\u001b[0mpyplot\u001b[0m \u001b[1;32mas\u001b[0m \u001b[0mplt\u001b[0m\u001b[1;33m\u001b[0m\u001b[1;33m\u001b[0m\u001b[0m\n",
      "\u001b[1;31mModuleNotFoundError\u001b[0m: No module named 'pandas_datareader'"
     ]
    }
   ],
   "source": [
    "import numpy as np\n",
    "import pandas_datareader.data as web\n",
    "import pandas as pd\n",
    "import datetime\n",
    "import matplotlib.pyplot as plt\n",
    "from sklearn.linear_model import LinearRegression\n",
    "import statistics as stat\n",
    "\n",
    "#get adjusted close price of Tencent from yahoo\n",
    "start = datetime.datetime(2020, 5, 21)\n",
    "end = datetime.datetime(2021, 5, 21)\n",
    "tencent = pd.DataFrame()\n",
    "tencent = web.DataReader('IBM', 'yahoo', start, end)['Adj Close']\n",
    "\n",
    "nomalized_return=np.log(tencent/tencent.iloc[0])\n",
    "\n",
    "df = pd.DataFrame(data=nomalized_return)\n",
    "\n",
    "df = df.resample('D').asfreq()\n",
    "\n",
    "# Create a 'x' and 'y' column for convenience\n",
    "df['y'] = df['Adj Close']     # create a new y-col (optional)\n",
    "df['x'] = np.arange(len(df))  # create x-col of continuous integers\n",
    "\n",
    "\n",
    "# Drop the rows that contain missing days\n",
    "df = df.dropna()\n",
    "\n",
    "X=df['x'].values[:, np.newaxis]\n",
    "y=df['y'].values[:, np.newaxis]\n",
    "\n",
    "# Fit linear regression model using scikit-learn\n",
    "lin_reg = LinearRegression()\n",
    "lin_reg.fit(X, y)\n",
    "\n",
    "# Make predictions w.r.t. 'x' and store it in a column called 'y_pred'\n",
    "df['y_pred'] = lin_reg.predict(df['x'].values[:, np.newaxis])\n",
    "\n",
    "df['above']= y + np.std(y)\n",
    "df['below']= y - np.std(y)\n",
    "# Plot 'y' and 'y_pred' vs 'DateTimeIndex`\n",
    "df[['y', 'y_pred']].plot()\n",
    "\n",
    "\n",
    "plt.show()"
   ]
  },
  {
   "cell_type": "code",
   "execution_count": null,
   "id": "32eac838",
   "metadata": {},
   "outputs": [],
   "source": []
  }
 ],
 "metadata": {
  "kernelspec": {
   "display_name": "Python 3 (ipykernel)",
   "language": "python",
   "name": "python3"
  },
  "language_info": {
   "codemirror_mode": {
    "name": "ipython",
    "version": 3
   },
   "file_extension": ".py",
   "mimetype": "text/x-python",
   "name": "python",
   "nbconvert_exporter": "python",
   "pygments_lexer": "ipython3",
   "version": "3.9.16"
  }
 },
 "nbformat": 4,
 "nbformat_minor": 5
}
